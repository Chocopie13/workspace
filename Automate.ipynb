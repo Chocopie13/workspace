{
 "cells": [
  {
   "cell_type": "code",
   "execution_count": 1,
   "id": "e1757c22",
   "metadata": {},
   "outputs": [
    {
     "ename": "NameError",
     "evalue": "name 'date' is not defined",
     "output_type": "error",
     "traceback": [
      "\u001b[1;31m---------------------------------------------------------------------------\u001b[0m",
      "\u001b[1;31mNameError\u001b[0m                                 Traceback (most recent call last)",
      "\u001b[1;32m~\\AppData\\Local\\Temp\\ipykernel_14332\\232888218.py\u001b[0m in \u001b[0;36m<module>\u001b[1;34m\u001b[0m\n\u001b[0;32m     15\u001b[0m \u001b[1;31m#날짜 데이터 설정\u001b[0m\u001b[1;33m\u001b[0m\u001b[1;33m\u001b[0m\u001b[0m\n\u001b[0;32m     16\u001b[0m \u001b[0mcell\u001b[0m \u001b[1;33m=\u001b[0m \u001b[0msheet\u001b[0m\u001b[1;33m[\u001b[0m\u001b[1;34m\"A3\"\u001b[0m\u001b[1;33m]\u001b[0m\u001b[1;33m\u001b[0m\u001b[1;33m\u001b[0m\u001b[0m\n\u001b[1;32m---> 17\u001b[1;33m \u001b[0mcell\u001b[0m\u001b[1;33m.\u001b[0m\u001b[0mvalue\u001b[0m \u001b[1;33m=\u001b[0m \u001b[0mdate\u001b[0m\u001b[1;33m(\u001b[0m\u001b[1;36m2021\u001b[0m\u001b[1;33m,\u001b[0m \u001b[1;36m4\u001b[0m\u001b[1;33m,\u001b[0m \u001b[1;36m1\u001b[0m\u001b[1;33m)\u001b[0m\u001b[1;33m\u001b[0m\u001b[1;33m\u001b[0m\u001b[0m\n\u001b[0m\u001b[0;32m     18\u001b[0m \u001b[0msheet\u001b[0m\u001b[1;33m[\u001b[0m\u001b[1;34m\"B3\"\u001b[0m\u001b[1;33m]\u001b[0m \u001b[1;33m=\u001b[0m \u001b[1;34m\"data_type=\"\u001b[0m \u001b[1;33m+\u001b[0m \u001b[0mcell\u001b[0m\u001b[1;33m.\u001b[0m\u001b[0mdata_type\u001b[0m\u001b[1;33m\u001b[0m\u001b[1;33m\u001b[0m\u001b[0m\n\u001b[0;32m     19\u001b[0m \u001b[1;33m\u001b[0m\u001b[0m\n",
      "\u001b[1;31mNameError\u001b[0m: name 'date' is not defined"
     ]
    }
   ],
   "source": [
    "import openpyxl as xl\n",
    "book = xl.Workbook()\n",
    "sheet = book.active\n",
    "\n",
    "#숫자 데이터 설정\n",
    "cell = sheet[\"A1\"]\n",
    "cell.value = 345\n",
    "sheet[\"B1\"] = \"data_type=\" + cell.data_type\n",
    "\n",
    "#문자열 데이터 설정\n",
    "cell = sheet[\"A2\"]\n",
    "cell.value = \"abc\"\n",
    "sheet[\"B2\"] = \"data_type=\" + cell.data_type\n",
    "\n",
    "#날짜 데이터 설정\n",
    "cell = sheet[\"A3\"]\n",
    "cell.value = date(2021, 4, 1)\n",
    "sheet[\"B3\"] = \"data_type=\" + cell.data_type\n",
    "\n",
    "book.save(\"C:/Users/Chocopie/OneDrive/파이썬 파일/automate/cellfomat_datatype.xlsx\")"
   ]
  },
  {
   "cell_type": "code",
   "execution_count": 3,
   "id": "b0e470b6",
   "metadata": {},
   "outputs": [],
   "source": [
    "import openpyxl as xl\n",
    "from datetime import date\n",
    "book = xl.Workbook()\n",
    "sheet = book.active\n",
    "\n",
    "#숫자 데이터 설정\n",
    "cell = sheet[\"A1\"]\n",
    "cell.value = 345\n",
    "sheet[\"B1\"] = \"data_type=\" + cell.data_type\n",
    "\n",
    "#문자열 데이터 설정\n",
    "cell = sheet[\"A2\"]\n",
    "cell.value = \"abc\"\n",
    "sheet[\"B2\"] = \"data_type=\" + cell.data_type\n",
    "\n",
    "#날짜 데이터 설정\n",
    "cell = sheet[\"A3\"]\n",
    "cell.value = date(2021, 4, 1)\n",
    "sheet[\"B3\"] = \"data_type=\" + cell.data_type\n",
    "\n",
    "book.save(\"C:/Users/Chocopie/OneDrive/파이썬 파일/automate/cellfomat_datatype.xlsx\")"
   ]
  },
  {
   "cell_type": "code",
   "execution_count": 6,
   "id": "13103778",
   "metadata": {},
   "outputs": [],
   "source": [
    "import openpyxl as xl\n",
    "\n",
    "book = xl.Workbook()\n",
    "sheet = book.active\n",
    "\n",
    "sheet.column_dimensions['B'].width = 40\n",
    "sheet.row_dimensions[2].height = 40\n",
    "\n",
    "cell = sheet[\"B2\"]\n",
    "cell.value = \"웃음은 만병의 통치약이다\"\n",
    "\n",
    "from openpyxl.styles.alignment import Alignment\n",
    "cell.alignment = Alignment(\n",
    "        horizontal='center', # 수평 위치를 가운데로\n",
    "        vertical='center') #수직 위치를 가운데로\n",
    "\n",
    "from openpyxl.styles.borders import Border, Side\n",
    "cell.border = Border(\n",
    "    top=Side(style='thin', color ='000000'),\n",
    "    right=Side(style='thin',color = '000000'),\n",
    "    bottom=Side(style='thin',color = '000000'),\n",
    "    left=Side(style='thin',color = '000000'),\n",
    ")\n",
    "\n",
    "from openpyxl.styles import Font\n",
    "cell.font = Font(\n",
    "    size = 14,\n",
    "    bold = True,\n",
    "    italic = True,\n",
    "    color = 'FFFFFF'\n",
    ")\n",
    "\n",
    "\n",
    "from openpyxl.styles import PatternFill\n",
    "cell.fill = PatternFill(\n",
    "        fill_type='solid',\n",
    "        fgColor='FF0000')\n",
    "\n",
    "book.save(\"C:/Users/Chocopie/OneDrive/파이썬 파일/automate/cellformat_style.xlsx\")\n"
   ]
  },
  {
   "cell_type": "code",
   "execution_count": 7,
   "id": "c7c1c8c6",
   "metadata": {},
   "outputs": [],
   "source": [
    "template_file =\"C:/Users/Chocopie/OneDrive/파이썬 파일/automate/invoice-template.xlsx\"\n",
    "save_file =\"C:/Users/Chocopie/OneDrive/파이썬 파일/automate/invoice-simple.xlsx\"\n",
    "\n",
    "name = '노명환'\n",
    "subject = '1월 청구분'\n",
    "items = [#내역\n",
    "    ['사과', 5, 3200],\n",
    "    ['바나나', 8, 2100],\n",
    "    ['메론', 1, 12000]\n",
    "]\n",
    "\n",
    "import openpyxl as excel\n",
    "book = excel.load_workbook(template_file)\n",
    "sheet = book.active\n",
    "\n",
    "sheet[\"B4\"] = name\n",
    "sheet[\"C10\"] = subject\n",
    "\n",
    "total = 0\n",
    "for i, it in enumerate(items): #\n",
    "    summary, count, price = it\n",
    "    subtotal = count * price\n",
    "    total += subtotal\n",
    "    \n",
    "    row = 15 + i\n",
    "    sheet.cell(row,2,summary)\n",
    "    sheet.cell(row,5,count)\n",
    "    sheet.cell(row,6,price)\n",
    "    sheet.cell(row,7,subtotal)\n",
    "    \n",
    "sheet[\"C11\"] = total\n",
    "book.save(save_file)"
   ]
  },
  {
   "cell_type": "code",
   "execution_count": 10,
   "id": "b73de4b0",
   "metadata": {},
   "outputs": [
    {
     "name": "stdout",
     "output_type": "stream",
     "text": [
      "[]\n"
     ]
    }
   ],
   "source": [
    "import glob\n",
    "\n",
    "files = glob.glob(\"*.py\")\n",
    "\n",
    "print(files)"
   ]
  },
  {
   "cell_type": "code",
   "execution_count": 2,
   "id": "04211f14",
   "metadata": {},
   "outputs": [
    {
     "name": "stdout",
     "output_type": "stream",
     "text": [
      "read: C:/Users/Chocopie/OneDrive/파이썬 파일/업무자동화 깃허브/pyauto-textbook-master/pyauto-textbook-master/ch3/input/salesbooks\\sales-choi.xlsx\n",
      "[datetime.datetime(2020, 3, 1, 0, 0), '백현우', '귤', 2, 2500, 5000]\n",
      "[datetime.datetime(2020, 3, 2, 0, 0), '안수현', '사과', 1, 1500, 1500]\n",
      "[datetime.datetime(2020, 3, 3, 0, 0), '도길환', '귤', 3, 2500, 7500]\n",
      "[datetime.datetime(2020, 3, 15, 0, 0), '주진호', '귤', 4, 2500, 10000]\n",
      "[datetime.datetime(2020, 3, 16, 0, 0), '백현우', '사과', 2, 1500, 3000]\n",
      "[datetime.datetime(2020, 3, 17, 0, 0), '주진호', '포도', 2, 3000, 6000]\n",
      "[datetime.datetime(2020, 3, 22, 0, 0), '백현우', '포도', 2, 3000, 6000]\n",
      "read: C:/Users/Chocopie/OneDrive/파이썬 파일/업무자동화 깃허브/pyauto-textbook-master/pyauto-textbook-master/ch3/input/salesbooks\\sales-kim.xlsx\n",
      "[datetime.datetime(2020, 3, 6, 0, 0), '문정아', '간장', 20, 1500, 30000]\n",
      "[datetime.datetime(2020, 3, 11, 0, 0), '강다슬', '소스', 2, 1500, 3000]\n",
      "[datetime.datetime(2020, 3, 20, 0, 0), '문정아', '된장', 8, 950, 7600]\n",
      "[datetime.datetime(2020, 3, 21, 0, 0), '강다슬', '간장', 10, 1500, 15000]\n",
      "read: C:/Users/Chocopie/OneDrive/파이썬 파일/업무자동화 깃허브/pyauto-textbook-master/pyauto-textbook-master/ch3/input/salesbooks\\sales-lee.xlsx\n",
      "[datetime.datetime(2020, 3, 6, 0, 0), '이문경', '귤 젤리', 20, 1500, 30000]\n",
      "[datetime.datetime(2020, 3, 11, 0, 0), '안수현', '복숭아 젤리', 2, 1500, 3000]\n",
      "[datetime.datetime(2020, 3, 20, 0, 0), '도길환', '귤 젤리', 8, 950, 7600]\n",
      "[datetime.datetime(2020, 3, 21, 0, 0), '강다슬', '복숭아 젤리', 10, 1500, 15000]\n",
      "read: C:/Users/Chocopie/OneDrive/파이썬 파일/업무자동화 깃허브/pyauto-textbook-master/pyauto-textbook-master/ch3/input/salesbooks\\sales-noh.xlsx\n",
      "[datetime.datetime(2020, 3, 3, 0, 0), '문정아', '두부', 4, 1000, 4000]\n",
      "[datetime.datetime(2020, 3, 5, 0, 0), '강다슬', '두부', 1, 1000, 1000]\n",
      "[datetime.datetime(2020, 3, 5, 0, 0), '정형태', '검은콩', 1, 2000, 2000]\n",
      "[datetime.datetime(2020, 3, 7, 0, 0), '문정아', '대두 세트', 2, 2000, 4000]\n",
      "[datetime.datetime(2020, 3, 15, 0, 0), '강다슬', '팥', 1, 1000, 1000]\n",
      "[datetime.datetime(2020, 3, 16, 0, 0), '정형태', '두부', 4, 1000, 4000]\n",
      "[datetime.datetime(2020, 3, 20, 0, 0), '강다슬', '팥', 5, 1000, 5000]\n",
      "read: C:/Users/Chocopie/OneDrive/파이썬 파일/업무자동화 깃허브/pyauto-textbook-master/pyauto-textbook-master/ch3/input/salesbooks\\sales-park.xlsx\n",
      "[datetime.datetime(2020, 3, 3, 0, 0), '이문경', '바나나', 3, 1000, 3000]\n",
      "[datetime.datetime(2020, 3, 5, 0, 0), '안수현', '사과', 2, 1500, 3000]\n",
      "[datetime.datetime(2020, 3, 5, 0, 0), '도길환', '딸기', 2, 2000, 4000]\n",
      "[datetime.datetime(2020, 3, 7, 0, 0), '주진호', '바나나', 8, 1000, 8000]\n",
      "[datetime.datetime(2020, 3, 15, 0, 0), '안수현', '사과', 2, 1500, 3000]\n",
      "[datetime.datetime(2020, 3, 16, 0, 0), '주진호', '딸기', 5, 2000, 10000]\n",
      "[datetime.datetime(2020, 3, 20, 0, 0), '신준영', '망고', 3, 1900, 5700]\n"
     ]
    }
   ],
   "source": [
    "import openpyxl as excel\n",
    "import glob\n",
    "\n",
    "target_dir = 'C:/Users/Chocopie/OneDrive/파이썬 파일/업무자동화 깃허브/pyauto-textbook-master/pyauto-textbook-master/ch3/input/salesbooks'\n",
    "save_file = 'C:/Users/Chocopie/OneDrive/파이썬 파일/업무자동화 깃허브/pyauto-textbook-master/pyauto-textbook-master/ch3/output/merge_files.xlsx'\n",
    "\n",
    "def merge_files():\n",
    "    book = excel.Workbook()\n",
    "    main_sheet = book.active\n",
    "    enumfiles(main_sheet)\n",
    "    book.save(save_file)\n",
    "    \n",
    "def enumfiles(main_sheet):\n",
    "    files = glob.glob(target_dir + '/*.xlsx')\n",
    "    for fname in files:\n",
    "        read_book(main_sheet, fname)\n",
    "\n",
    "def read_book(main_sheet, fname):\n",
    "    print(\"read:\", fname)\n",
    "    book = excel.load_workbook(fname, data_only = True)\n",
    "    sheet = book.active\n",
    "    rows = sheet[\"A4\":\"F999\"]\n",
    "    for row in rows:\n",
    "        values = [cell.value for cell in row]\n",
    "        if values[0] is None: break\n",
    "        print(values)\n",
    "        main_sheet.append(values)\n",
    "        \n",
    "if __name__ == \"__main__\":\n",
    "    merge_files()\n",
    "    \n"
   ]
  },
  {
   "cell_type": "code",
   "execution_count": 12,
   "id": "45cb4bd8",
   "metadata": {},
   "outputs": [],
   "source": [
    "import pandas as pd\n",
    "\n",
    "save_file = 'C:/Users/Chocopie/OneDrive/파이썬 파일/업무자동화 깃허브/pyauto-textbook-master/pyauto-textbook-master/ch3/output/merge_files.xlsx'\n",
    "a = pd.read_excel(save_file, header=None)"
   ]
  },
  {
   "cell_type": "code",
   "execution_count": 14,
   "id": "c83aab04",
   "metadata": {},
   "outputs": [],
   "source": [
    "a.columns = ['date', 'name', 'food', 'num', 'price', 'sales']"
   ]
  },
  {
   "cell_type": "code",
   "execution_count": 23,
   "id": "702ecdeb",
   "metadata": {},
   "outputs": [
    {
     "data": {
      "text/plain": [
       "food\n",
       "간장        2\n",
       "검은콩       1\n",
       "귤         3\n",
       "귤 젤리      2\n",
       "대두 세트     1\n",
       "된장        1\n",
       "두부        3\n",
       "딸기        2\n",
       "망고        1\n",
       "바나나       2\n",
       "복숭아 젤리    2\n",
       "사과        4\n",
       "소스        1\n",
       "팥         2\n",
       "포도        2\n",
       "dtype: int64"
      ]
     },
     "execution_count": 23,
     "metadata": {},
     "output_type": "execute_result"
    }
   ],
   "source": [
    "a.groupby(by='food').size()"
   ]
  },
  {
   "cell_type": "code",
   "execution_count": null,
   "id": "c782d26e",
   "metadata": {},
   "outputs": [],
   "source": []
  }
 ],
 "metadata": {
  "kernelspec": {
   "display_name": "base",
   "language": "python",
   "name": "python3"
  },
  "language_info": {
   "codemirror_mode": {
    "name": "ipython",
    "version": 3
   },
   "file_extension": ".py",
   "mimetype": "text/x-python",
   "name": "python",
   "nbconvert_exporter": "python",
   "pygments_lexer": "ipython3",
   "version": "3.9.13"
  },
  "vscode": {
   "interpreter": {
    "hash": "ad2bdc8ecc057115af97d19610ffacc2b4e99fae6737bb82f5d7fb13d2f2c186"
   }
  }
 },
 "nbformat": 4,
 "nbformat_minor": 5
}
